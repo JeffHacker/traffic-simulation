{
 "cells": [
  {
   "cell_type": "code",
   "execution_count": 6,
   "metadata": {
    "collapsed": false
   },
   "outputs": [],
   "source": [
    "import random\n",
    "import math\n",
    "import statistics\n",
    "import matplotlib.pyplot as plt\n",
    "%matplotlib inline\n",
    "import numpy as np\n",
    "\n",
    "#import traffic_sim.py"
   ]
  },
  {
   "cell_type": "code",
   "execution_count": 9,
   "metadata": {
    "collapsed": false
   },
   "outputs": [
    {
     "name": "stdout",
     "output_type": "stream",
     "text": [
      "[]\n"
     ]
    }
   ],
   "source": [
    "class Road:\n",
    "    def __init__(self):\n",
    "        self.length = 1000\n",
    "\n",
    "    def __str__(self):\n",
    "        return self.length\n",
    "\n",
    "\n",
    "class Car:\n",
    "    def __init__(self, location, following_who=None):\n",
    "        self.speed = 30\n",
    "        self.max_speed = 60\n",
    "        self.min_distance = int(self.speed + 5)\n",
    "        self.location = location\n",
    "        self.following_who = following_who\n",
    "\n",
    "    @property\n",
    "    # wha?  So we use this to call without passing variables right?\n",
    "    def __str__(self):\n",
    "        return \"{}\".format(self.location)\n",
    "\n",
    "    def accelerate(self):\n",
    "        if self.speed < self.max_speed:\n",
    "            self.speed += 2\n",
    "            # return\n",
    "        else:\n",
    "            self.speed = self.following_who.speed\n",
    "            # return\n",
    "\n",
    "    def decelerate(self):\n",
    "        distraction = random.randint(0, 9)\n",
    "        if distraction == 0:\n",
    "            self.speed -= 2\n",
    "            if self.speed < 0:\n",
    "                self.speed = 0\n",
    "\n",
    "    def simulate(self):\n",
    "        if self.following_who.location > self.min_distance:\n",
    "            self.accelerate()\n",
    "            self.decelerate()\n",
    "            self.location += self.speed\n",
    "            if self.location >= road.length:\n",
    "                self.location -= road.length\n",
    "        else:\n",
    "            self.decelerate()\n",
    "            self.location += self.speed\n",
    "            if self.location >= road.length:\n",
    "                self.location -= road.length\n",
    "\n",
    "\n",
    "road = Road()\n",
    "car_list = []\n",
    "location = 980\n",
    "car_in_front = None\n",
    "traffic = []\n",
    "traffic_log = []\n",
    "print(traffic_log)\n",
    "in_range = []\n",
    "itteration_log = []\n",
    "speed_log = []\n",
    "\n",
    "for _ in range(30):\n",
    "    # this creates the car instances\n",
    "    car_to_spawn = Car(location, car_in_front)\n",
    "    car_list.append(car_to_spawn)\n",
    "    # this next line allows the first car to spawn without knowing who it is following by setting var above to none\n",
    "    # Each iteration allows the first car to be assigned the last car no matter how many are put on the road\n",
    "    car_list[0].following_who = car_list[-1]\n",
    "    location -= 32\n",
    "    car_in_front = car_to_spawn\n",
    "\n",
    "for _ in range(120):\n",
    "    for car in car_list:\n",
    "        car.simulate()\n",
    "        [speed_log.append(car.speed)]\n",
    "        [traffic.append(car.location)]\n",
    "        [in_range.append(_)]\n",
    "    [traffic_log.append(traffic)]\n",
    "    #for use with scatter plot\n",
    "    itteration_log.append(in_range)\n",
    "    \n"
   ]
  },
  {
   "cell_type": "code",
   "execution_count": 10,
   "metadata": {
    "collapsed": false,
    "scrolled": true
   },
   "outputs": [
    {
     "data": {
      "image/png": "[encoded data removed]",
      "text/plain": [
       "<matplotlib.figure.Figure at 0x113ccce10>"
      ]
     },
     "metadata": {},
     "output_type": "display_data"
    }
   ],
   "source": [
    "x = traffic_log\n",
    "y = itteration_log\n",
    "plt.rcParams['figure.figsize'] = 22, 12\n",
    "plt.scatter(x, y, marker = \"_\", c=['b', 'r', 'g'])\n",
    "plt.show()"
   ]
  },
  {
   "cell_type": "code",
   "execution_count": 215,
   "metadata": {
    "collapsed": false
   },
   "outputs": [
    {
     "name": "stdout",
     "output_type": "stream",
     "text": [
      "34.59764396783137\n"
     ]
    }
   ],
   "source": [
    "average_speed = (sum(speed_log) / len(speed_log))\n",
    "variation = []\n",
    "for _ in speed_log:\n",
    "    variation.append((_ - average_speed)**2)\n",
    "variation = (sum(variation) / len(variation))\n",
    "standard_dev = variation**(.5)\n",
    "optimum_speed = average_speed + standard_dev\n",
    "\n",
    "print(optimum_speed)\n"
   ]
  },
  {
   "cell_type": "code",
   "execution_count": null,
   "metadata": {
    "collapsed": true
   },
   "outputs": [],
   "source": []
  }
 ],
 "metadata": {
  "kernelspec": {
   "display_name": "Python 3",
   "language": "python",
   "name": "python3"
  },
  "language_info": {
   "codemirror_mode": {
    "name": "ipython",
    "version": 3
   },
   "file_extension": ".py",
   "mimetype": "text/x-python",
   "name": "python",
   "nbconvert_exporter": "python",
   "pygments_lexer": "ipython3",
   "version": "3.4.3"
  }
 },
 "nbformat": 4,
 "nbformat_minor": 0
}
